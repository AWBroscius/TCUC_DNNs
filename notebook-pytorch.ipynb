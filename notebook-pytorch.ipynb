{
 "cells": [
  {
   "cell_type": "code",
   "execution_count": 1,
   "id": "49f0ec4e-051d-4e5c-ab62-909956b67602",
   "metadata": {},
   "outputs": [],
   "source": [
    "# -*- coding: utf-8 -*-\n",
    "\"\"\"\n",
    "Created on Sat Oct 29 21:06:30 2022\n",
    "Modified on Mon Sept 9 by awb9691\n",
    "@author: ssb60\n",
    "@author: Abigail Broscius awb9691@rit.edu\n",
    "\"\"\"\n",
    "import numpy as np\n",
    "import matplotlib.pyplot as plt\n",
    "import keras\n",
    "from keras.callbacks import History\n",
    "from tensorflow import keras\n",
    "from keras.models import Sequential\n",
    "from keras.layers import Dense\n",
    "from keras.layers import LSTM\n",
    "from keras.layers import SimpleRNN\n",
    "from keras.layers import Dropout\n",
    "from keras.layers import BatchNormalization\n",
    "from sklearn.model_selection import train_test_split\n",
    "from sklearn.preprocessing import LabelEncoder\n",
    "from sklearn.preprocessing import OrdinalEncoder\n",
    "import pandas as pd\n",
    "import tensorflow as tf\n",
    "import torch\n",
    "from torch import nn\n",
    "from torch.autograd import Variable\n",
    "from pathlib import Path\n",
    "import os"
   ]
  },
  {
   "cell_type": "code",
   "execution_count": 2,
   "id": "42c3ed08-4003-47c0-9cd5-ab0b8feba270",
   "metadata": {},
   "outputs": [
    {
     "name": "stdout",
     "output_type": "stream",
     "text": [
      "CUDA version: 11.8\n",
      "GPU available? (pytorch): False\n"
     ]
    }
   ],
   "source": [
    "# Check for GPU architecture/compat\n",
    "print(\"CUDA version:\", torch.version.cuda)\n",
    "print(\"GPU available? (pytorch):\", torch.cuda.is_available())\n"
   ]
  },
  {
   "cell_type": "code",
   "execution_count": 43,
   "id": "52f818f7-8d3f-47e8-9876-3935330b26c7",
   "metadata": {},
   "outputs": [],
   "source": [
    "# Load in data\n",
    "Time_series_X_train = torch.tensor(np.load(r'T_s_X_train.npy')[0:100], dtype=torch.float32)\n",
    "Time_series_Y_train = torch.tensor(np.load(r'T_s_Y_train_flattened.npy')[0:100], dtype=torch.float32)\n",
    "Time_series_X_test = torch.tensor(np.load(r'T_s_X_test.npy'), dtype=torch.float32)\n",
    "Time_series_Y_test = torch.tensor(np.load(r'T_s_Y_test_flattened.npy'), dtype=torch.float32)"
   ]
  },
  {
   "cell_type": "code",
   "execution_count": 4,
   "id": "d1db5503-1fdb-463a-afdf-aa64aeee7909",
   "metadata": {},
   "outputs": [
    {
     "name": "stdout",
     "output_type": "stream",
     "text": [
      "x train shape:\n",
      "torch.Size([100, 192, 120])\n",
      "y train shape:\n",
      "torch.Size([100, 2880])\n"
     ]
    }
   ],
   "source": [
    "# Check data shape\n",
    "print(\"x train shape:\")\n",
    "print(Time_series_X_train.shape)\n",
    "print(\"y train shape:\")\n",
    "print(Time_series_Y_train.shape)\n"
   ]
  },
  {
   "cell_type": "code",
   "execution_count": 5,
   "id": "fad06b85-da2e-4a6a-97c3-7bb036932b12",
   "metadata": {},
   "outputs": [
    {
     "name": "stdout",
     "output_type": "stream",
     "text": [
      "Directory 'path_testing' created\n"
     ]
    }
   ],
   "source": [
    "# Create File System for saving output\n",
    "\n",
    "# Parent Directories\n",
    "parent_dir = r\".\\Outputs_from_models\"\n",
    "directory = \"path_testing\"  # change\n",
    "path = os.path.join(parent_dir, directory)\n",
    "Path(path).mkdir(parents=True, exist_ok=True)\n",
    "print(\"Directory '% s' created\" % directory)\n"
   ]
  },
  {
   "cell_type": "code",
   "execution_count": 6,
   "id": "2bf58463-2299-4aeb-a1bb-f3e4c5c6dd65",
   "metadata": {},
   "outputs": [],
   "source": [
    "# Leaf directories\n",
    "pathT = path + \"\\\\Testing_data\"\n",
    "Path(pathT).mkdir(parents=True, exist_ok=True)\n",
    "pathM = path + \"\\\\Model\"\n",
    "Path(pathM).mkdir(parents=True, exist_ok=True)\n",
    "pathP = path + \"\\\\Plots\"\n",
    "Path(pathP).mkdir(parents=True, exist_ok=True)"
   ]
  },
  {
   "cell_type": "code",
   "execution_count": 7,
   "id": "4edb3375-bd5b-409b-814d-3563f4edbecd",
   "metadata": {},
   "outputs": [],
   "source": [
    "# Create a class for model structure in torch\n",
    "class TorchModel(nn.Module):\n",
    "    def __init__(self, seq_len, input_size, num_layers):\n",
    "        super(TorchModel, self).__init__()\n",
    "        self.input_size = input_size\n",
    "        self.seq_length = seq_len\n",
    "        self.num_layers = num_layers\n",
    "\n",
    "        self.lstm_1 = nn.LSTM(input_size=input_size, hidden_size=1000, batch_first=True)\n",
    "        self.lstm_2 = nn.LSTM(input_size=1000, hidden_size=500, batch_first=True)\n",
    "        self.fc_1 = nn.Linear(500, 3000)\n",
    "        self.fc_2 = nn.Linear(3000, 1000)\n",
    "        self.fc_3 = nn.Linear(1000, 3000)\n",
    "        self.op_layer = nn.Linear(3000, 2880)\n",
    "\n",
    "        self.relu = nn.ReLU()\n",
    "        self.tanh = nn.Tanh()\n",
    "        self.sigmoid = nn.Sigmoid()\n",
    "\n",
    "    def forward(self, x):\n",
    "        # print(\"input shape:\", x.shape)\n",
    "        h_0 = Variable(torch.zeros(self.num_layers, x.shape[0], 1000))  # hidden state\n",
    "        c_0 = Variable(torch.zeros(self.num_layers, x.shape[0], 1000))  # internal state\n",
    "        h_1 = Variable(torch.zeros(self.num_layers, x.shape[0], 500))  # hidden state\n",
    "        c_1 = Variable(torch.zeros(self.num_layers, x.shape[0], 500))# internal state\n",
    "        # print(\"h0 shape:\", h_0.shape)\n",
    "        # print(\"c0 shape:\", c_0.shape)\n",
    "        # print(\"h1 shape:\", h_1.shape)\n",
    "        # print(\"c1 shape:\", c_1.shape)\n",
    "\n",
    "        # Propagate input through LSTM\n",
    "        output, (hn, cn) = self.lstm_1(x, (h_0, c_0))  # first lstm layer\n",
    "        output = self.sigmoid(output)\n",
    "        # print(\"LSTM1 output shape:\", output.shape)\n",
    "        # hn = hn.view(-1, 500)\n",
    "        out, (hn, cn) = self.lstm_2(output, (h_1, c_1))  # second lstm layer\n",
    "        out = self.tanh(out)\n",
    "        hn = hn.view(-1, 500)\n",
    "        out = self.relu(hn)\n",
    "        out = self.fc_1(out)  # first fc layer\n",
    "        # print(\"out shape 1FC:\", out.shape)\n",
    "        out = self.relu(out)\n",
    "        out = self.fc_2(out)  # second fc layer\n",
    "        # print(\"out shape 2FC:\", out.shape)\n",
    "        out = self.relu(out)\n",
    "        out = self.fc_3(out)  # third fc layer\n",
    "        # print(\"out shape 3FC:\", out.shape)\n",
    "        out = self.relu(out)\n",
    "        out = self.op_layer(out)  # O/P layer\n",
    "        # print(\"out shape OP:\", out.shape)\n",
    "        out = self.sigmoid(out)\n",
    "\n",
    "        return out\n"
   ]
  },
  {
   "cell_type": "code",
   "execution_count": 8,
   "id": "bc141da7-a1a4-4610-afa2-789b1e9fedf8",
   "metadata": {},
   "outputs": [],
   "source": [
    "# Define model hyperparameters\n",
    "seq_len = Time_series_X_train.shape[1]  # number of timestamps in 1 sample\n",
    "input_size = Time_series_X_train.shape[2]  # number of features in 1 sample\n",
    "# 1 sample = num timestamps x num features(power lines)\n",
    "num_epochs = 4\n",
    "learning_rate = 0.001"
   ]
  },
  {
   "cell_type": "code",
   "execution_count": 9,
   "id": "9ba546ca-66d5-4533-91d8-1c25f3e5b800",
   "metadata": {},
   "outputs": [
    {
     "name": "stdout",
     "output_type": "stream",
     "text": [
      "TorchModel(\n",
      "  (lstm_1): LSTM(120, 1000, batch_first=True)\n",
      "  (lstm_2): LSTM(1000, 500, batch_first=True)\n",
      "  (fc_1): Linear(in_features=500, out_features=3000, bias=True)\n",
      "  (fc_2): Linear(in_features=3000, out_features=1000, bias=True)\n",
      "  (fc_3): Linear(in_features=1000, out_features=3000, bias=True)\n",
      "  (op_layer): Linear(in_features=3000, out_features=2880, bias=True)\n",
      "  (relu): ReLU()\n",
      "  (tanh): Tanh()\n",
      "  (sigmoid): Sigmoid()\n",
      ")\n"
     ]
    }
   ],
   "source": [
    "# Instantiate the model\n",
    "torchmodel = TorchModel(input_size=input_size, seq_len=seq_len, num_layers=1)\n",
    "print(torchmodel)"
   ]
  },
  {
   "cell_type": "code",
   "execution_count": 10,
   "id": "2d408a49-75e9-411c-99ca-507990e63855",
   "metadata": {},
   "outputs": [],
   "source": [
    "# Define the loss function and optimizer\n",
    "criterion = torch.nn.MSELoss()  # mean squared error\n",
    "optimizer = torch.optim.Adam(torchmodel.parameters(),\n",
    "                             lr=learning_rate,\n",
    "                             betas=(0.9,0.99),\n",
    "                             eps=1e-07,\n",
    "                             )\n"
   ]
  },
  {
   "cell_type": "code",
   "execution_count": 44,
   "id": "c832daa4-db8c-4e97-b0e8-c7bc1abc9299",
   "metadata": {},
   "outputs": [
    {
     "name": "stdout",
     "output_type": "stream",
     "text": [
      "Epoch: 0, Train loss: 0.02135\n",
      "\t Test loss: 0.02360\n",
      "Epoch: 1, Train loss: 0.01970\n",
      "\t Test loss: 0.02148\n",
      "Epoch: 2, Train loss: 0.01799\n",
      "\t Test loss: 0.02167\n",
      "FINAL EPOCH\n",
      "Epoch: 3, Train loss: 0.01867\n",
      "\t Test loss: 0.02298\n"
     ]
    }
   ],
   "source": [
    "# Training!!\n",
    "train_loss_hist = []\n",
    "test_loss_hist = []\n",
    "predictions = 0\n",
    "for epoch in range(num_epochs):\n",
    "    # Train on the Training Set:\n",
    "    torchmodel.train()\n",
    "    outputs = torchmodel.forward(Time_series_X_train)  # forward pass\n",
    "    optimizer.zero_grad()  # calculate the gradient\n",
    "\n",
    "    # Loss Function\n",
    "    loss = criterion(outputs, Time_series_Y_train)\n",
    "    loss.backward()\n",
    "    train_loss_hist.append(loss.item())  # track loss history\n",
    "    optimizer.step()  # backpropagation\n",
    "\n",
    "    # Evaluate on the Test Set:\n",
    "    torchmodel.eval()\n",
    "    with torch.no_grad():\n",
    "        pred = torchmodel(Time_series_X_test)\n",
    "        test_loss = criterion(pred, Time_series_Y_test).item()\n",
    "        test_loss_hist.append(test_loss)\n",
    "        if (epoch + 1) == num_epochs:  # on last training epoch\n",
    "            # save testing predictions\n",
    "            print(\"FINAL EPOCH\")\n",
    "            predictions = pred\n",
    "            \n",
    "\n",
    "    print(\"Epoch: %d, Train loss: %1.5f\" % (epoch, loss.item()))\n",
    "    print(\"\\t Test loss: %1.5f\" % test_loss)\n"
   ]
  },
  {
   "cell_type": "code",
   "execution_count": 13,
   "id": "75720f0b-2314-4823-8721-ae38ee25f836",
   "metadata": {},
   "outputs": [
    {
     "name": "stdout",
     "output_type": "stream",
     "text": [
      "[0.08412639796733856, 0.07724989950656891, 0.035829879343509674, 0.05915457382798195]\n"
     ]
    }
   ],
   "source": [
    "print(train_loss_hist)"
   ]
  },
  {
   "cell_type": "code",
   "execution_count": 45,
   "id": "5c9d40d7-c6a8-44b3-88c8-bf37c4343b95",
   "metadata": {},
   "outputs": [
    {
     "name": "stdout",
     "output_type": "stream",
     "text": [
      "tensor([[0.1199, 0.2458, 0.4358,  ..., 0.3518, 0.3674, 0.3080],\n",
      "        [0.1199, 0.2458, 0.4358,  ..., 0.3518, 0.3674, 0.3080],\n",
      "        [0.1199, 0.2458, 0.4358,  ..., 0.3518, 0.3674, 0.3080],\n",
      "        ...,\n",
      "        [0.1199, 0.2458, 0.4358,  ..., 0.3518, 0.3674, 0.3080],\n",
      "        [0.1200, 0.2458, 0.4358,  ..., 0.3518, 0.3674, 0.3080],\n",
      "        [0.1200, 0.2458, 0.4358,  ..., 0.3519, 0.3674, 0.3080]])\n"
     ]
    }
   ],
   "source": [
    "print(predictions)"
   ]
  },
  {
   "cell_type": "code",
   "execution_count": null,
   "id": "a5bc5d08-9f59-4e02-b199-ca776ef7b832",
   "metadata": {},
   "outputs": [],
   "source": []
  },
  {
   "cell_type": "code",
   "execution_count": null,
   "id": "f8ba39ec-cfb6-4850-b365-8db219d54733",
   "metadata": {},
   "outputs": [],
   "source": []
  },
  {
   "cell_type": "code",
   "execution_count": 46,
   "id": "6634b8ec-81f3-4a2d-b954-72d9481c5399",
   "metadata": {},
   "outputs": [
    {
     "name": "stdout",
     "output_type": "stream",
     "text": [
      ".\\Outputs_from_models\\path_testing\\Plots\\loss.png\n"
     ]
    },
    {
     "data": {
      "image/png": "[encoded data removed]",
      "text/plain": [
       "<Figure size 640x480 with 1 Axes>"
      ]
     },
     "metadata": {},
     "output_type": "display_data"
    }
   ],
   "source": [
    "plt.plot(train_loss_hist)\n",
    "plt.plot(test_loss_hist)\n",
    "plt.title('model loss')\n",
    "plt.ylabel('loss')\n",
    "plt.xlabel('epoch')\n",
    "plt.legend(['train', 'test'], loc='upper left')\n",
    "\n",
    "plt.savefig(path+r'\\Plots'+r'\\loss.png')\n",
    "print(path+r'\\Plots'+r'\\loss.png')\n",
    "plt.show()"
   ]
  },
  {
   "cell_type": "code",
   "execution_count": 47,
   "id": "dc578218-bec3-41ea-9833-8d9b769ed9ac",
   "metadata": {},
   "outputs": [
    {
     "name": "stdout",
     "output_type": "stream",
     "text": [
      "[[  56. 1321.]\n",
      " [  56. 1322.]\n",
      " [  56. 1323.]\n",
      " ...\n",
      " [ 323. 7750.]\n",
      " [ 323. 7751.]\n",
      " [ 323. 7752.]]\n"
     ]
    }
   ],
   "source": [
    "predictions[predictions<=0.3333] = 0\n",
    "predictions[predictions > 0.3333]=1\n",
    "pred = predictions\n",
    "idx_y=np.load('y_test_idx.npy')\n",
    "print(idx_y)\n",
    "# [0:100]\n",
    "df=pd.DataFrame(pred)\n",
    "df.insert(loc=0,column='day',value=idx_y[:,0])\n",
    "#df.insert(loc=1,column='hour',value=idx_y[:,1])\n",
    "#df['hour']=idx_y[:,1]"
   ]
  },
  {
   "cell_type": "code",
   "execution_count": 24,
   "id": "a920980b-02cf-4c1b-868d-724b409d3d94",
   "metadata": {},
   "outputs": [],
   "source": [
    "mask1 = df.duplicated(subset=['day'],keep = \"first\") # this line is to get the first occ.\n",
    "df2=df[~mask1]\n",
    "\n",
    "pred_0_hr =df2.to_numpy()\n"
   ]
  },
  {
   "cell_type": "code",
   "execution_count": 25,
   "id": "bec153ae-8f63-446c-b917-cd85b0e6105c",
   "metadata": {},
   "outputs": [],
   "source": [
    "pred_0_hr_list =[]\n",
    "temp=[]\n",
    "counter_op=0\n",
    "for i in range (1,len(pred_0_hr)):\n",
    "    if ( pred_0_hr[i,0]-pred_0_hr[i-1,0])<2:\n",
    "        temp.append(pred_0_hr[i,:])\n",
    "        if i== len(pred_0_hr)-1:\n",
    "            temp_np=np.array(temp)\n",
    "            index_for_temp=2\n",
    "            new_temp_1=[]\n",
    "            for count_reshape_r in range (0,len(temp_np)):\n",
    "                new_temp=[]\n",
    "                new_temp.append(temp_np[count_reshape_r,0])\n",
    "                    \n",
    "                for count_reshape_c in range (1,temp_np.shape[1]):\n",
    "                    if ((count_reshape_c) % 120)==0 : \n",
    "                        new_temp.append(temp_np[count_reshape_r,count_reshape_c])\n",
    "                        new_temp_1.append(new_temp)\n",
    "                        new_temp=[]\n",
    "                        new_temp.append(temp_np[count_reshape_r,0])\n",
    "                        \n",
    "                    else: \n",
    "                        new_temp.append(temp_np[count_reshape_r,count_reshape_c])\n",
    "\n",
    "                           \n",
    "            new_temp_1=np.array(new_temp_1)\n",
    "            df_3=pd.DataFrame(new_temp_1)\n",
    "            file_name=path +r'\\Testing_data\\excel'+str(counter_op)+'.xlsx'\n",
    "            df_3.to_excel(file_name)\n",
    "    else:\n",
    "        temp_np=np.array(temp)\n",
    "        index_for_temp=2\n",
    "        new_temp_1=[]\n",
    "        for count_reshape_r in range (0,len(temp_np)):\n",
    "            new_temp=[]\n",
    "            new_temp.append(temp_np[count_reshape_r,0])\n",
    "                \n",
    "            for count_reshape_c in range (1,temp_np.shape[1]):\n",
    "                if ((count_reshape_c ) % 120)==0 : \n",
    "                    new_temp.append(temp_np[count_reshape_r,count_reshape_c])\n",
    "                    new_temp_1.append(new_temp)\n",
    "                    new_temp=[]\n",
    "                    new_temp.append(temp_np[count_reshape_r,0])\n",
    "                    \n",
    "                else: \n",
    "                    new_temp.append(temp_np[count_reshape_r,count_reshape_c])\n",
    "                    \n",
    "       \n",
    "        new_temp_1=np.array(new_temp_1)\n",
    "        df_3=pd.DataFrame(new_temp_1)\n",
    "        file_name=path+r'\\Testing_data\\excel'+str(counter_op)+'.xlsx'\n",
    "        df_3.to_excel(file_name)\n",
    "        temp=[]\n",
    "        counter_op=counter_op+1\n",
    "        \n"
   ]
  },
  {
   "cell_type": "code",
   "execution_count": 26,
   "id": "224d23f3-bb2b-425b-89cc-d02a7fc67298",
   "metadata": {},
   "outputs": [],
   "source": [
    "#df.to_excel('out_33_10_xy_y_56.xlsx')\n",
    "np.save(path +r'\\output.npy',pred)\n"
   ]
  },
  {
   "cell_type": "code",
   "execution_count": 27,
   "id": "728567ad-1bf1-4ded-90c0-6686a95d67e5",
   "metadata": {},
   "outputs": [],
   "source": [
    "pred_t=pred\n",
    "np.save(path +r'\\output.npy',pred_t)"
   ]
  },
  {
   "cell_type": "code",
   "execution_count": 34,
   "id": "69081796-1160-4416-906a-9a4f69616301",
   "metadata": {},
   "outputs": [
    {
     "name": "stdout",
     "output_type": "stream",
     "text": [
      "288000\n",
      "trueval_pos\n",
      "141241\n",
      "trueval_neg\n",
      "146759\n",
      "positive_pred\n",
      "131600\n",
      "negative_pred\n",
      "156400\n"
     ]
    }
   ],
   "source": [
    "Time_series_Y_test[Time_series_Y_test<=0.33]=0\n",
    "Time_series_Y_test[Time_series_Y_test > 0.33]=1\n",
    "print(torch.numel(Time_series_Y_test))\n",
    "tp = np.count_nonzero(Time_series_Y_test == 1)\n",
    "tn = np.count_nonzero(Time_series_Y_test == 0)\n",
    "pp = np.count_nonzero(pred == 1)\n",
    "pn =np.count_nonzero(pred == 0)\n",
    "\n",
    "print('trueval_pos')\n",
    "print(tp)\n",
    "print('trueval_neg')\n",
    "print(tn)\n",
    "print('positive_pred')\n",
    "print(pp)\n",
    "print('negative_pred')\n",
    "print(pn)\n"
   ]
  },
  {
   "cell_type": "code",
   "execution_count": 38,
   "id": "d698b395-545f-476e-a87c-94fd8cec17d2",
   "metadata": {},
   "outputs": [],
   "source": [
    "total_positive=np.count_nonzero(Time_series_Y_test == 1)\n",
    "total_negative =np.count_nonzero(Time_series_Y_test == 0)\n",
    "pred_pos=np.count_nonzero(pred_t == 1)\n",
    "pred_neg =np.count_nonzero(pred_t == 0)\n",
    "\n",
    "mat_1 = Time_series_Y_test + pred_t\n",
    "tp = np.count_nonzero(mat_1 == 2)\n",
    "tp_arr=np.count_nonzero(mat_1 == 2,0)\n",
    "tn=np.count_nonzero(mat_1 == 0)\n",
    "tn_arr=np.count_nonzero(mat_1 == 0,0)\n",
    "\n",
    "mat_2 = Time_series_Y_test - pred_t\n",
    "fn = np.count_nonzero(mat_2 == 1)\n",
    "fn_arr=np.count_nonzero(mat_2 == 1,0)\n",
    "fp =np.count_nonzero(mat_2 ==-1)\n",
    "fp_arr=np.count_nonzero(mat_2 == -1,0)"
   ]
  },
  {
   "cell_type": "code",
   "execution_count": 39,
   "id": "8aa85c0c-f3bf-44be-a3fb-8d379fa1cda4",
   "metadata": {},
   "outputs": [
    {
     "name": "stderr",
     "output_type": "stream",
     "text": [
      "<>:13: SyntaxWarning: invalid escape sequence '\\c'\n",
      "<>:13: SyntaxWarning: invalid escape sequence '\\c'\n",
      "C:\\Users\\Abby\\AppData\\Local\\Temp\\ipykernel_17392\\3221100961.py:13: SyntaxWarning: invalid escape sequence '\\c'\n",
      "  file_name=path+'\\confusion_matrix.xlsx'\n"
     ]
    }
   ],
   "source": [
    "df_cm=pd.DataFrame(tp_arr.T)\n",
    "#df. rename(columns = {'old_col1':'new_col1', 'old_col2':'new_col2'}, inplace = True)\n",
    "df_cm.rename(columns={0:'True_Positive'},inplace='True')\n",
    "df_cm.insert(loc=1,column='True_Negative',value=tn_arr)\n",
    "df_cm.insert(loc=2,column='False_Positive',value=fp_arr)\n",
    "df_cm.insert(loc=3,column='False_Negative',value=fn_arr)\n",
    "lines =np.linspace(1, 120, num=120)\n",
    "lines_arr = np.tile(lines,24)\n",
    "df_cm.insert(loc=0,column='Line_No',value=lines_arr)\n",
    "hour=np.linspace(1, 24, num=24)\n",
    "hour_arr = np.repeat(hour,120)\n",
    "df_cm.insert(loc=1,column='Hour',value=hour_arr)\n",
    "file_name=path+'\\confusion_matrix.xlsx'\n",
    "df_cm.to_excel(file_name)\n",
    "df_false_neg = df_cm.groupby([\"Line_No\"]).False_Negative.sum().reset_index()"
   ]
  },
  {
   "cell_type": "code",
   "execution_count": 40,
   "id": "a6734986-d7f6-4fa7-bfd9-49ee0dea05cf",
   "metadata": {},
   "outputs": [
    {
     "name": "stdout",
     "output_type": "stream",
     "text": [
      "tp\n",
      "109255\n",
      "tn\n",
      "124414\n",
      "fp\n",
      "22345\n",
      "fn\n",
      "31986\n",
      "F1-score =  0.8008693708057073\n",
      "Most false neg line\n",
      "1960\n",
      "No of times\n",
      "88.0\n"
     ]
    }
   ],
   "source": [
    "print('tp')\n",
    "print(tp)\n",
    "print('tn')\n",
    "print(tn)\n",
    "print('fp')\n",
    "print(fp)\n",
    "print('fn')\n",
    "print(fn)\n",
    "\n",
    "f1_score = 2*tp/(2*tp + fp + fn)\n",
    "print('F1-score = ',f1_score)\n",
    "\n",
    "print('Most false neg line')\n",
    "print(df_false_neg.loc[df_false_neg.False_Negative.idxmax(),'False_Negative'])\n",
    "print(\"No of times\")\n",
    "print(df_false_neg.loc[df_false_neg.False_Negative.idxmax(),'Line_No'])"
   ]
  },
  {
   "cell_type": "code",
   "execution_count": null,
   "id": "c71d6c30-1fdc-4aa9-bcc1-cf62478c4a28",
   "metadata": {},
   "outputs": [],
   "source": [
    "LSTM_model.evaluate(Time_series_X_test,Time_series_Y_test)\n",
    "LSTM_model.evaluate(Time_series_X_train,Time_series_Y_train)\n"
   ]
  },
  {
   "cell_type": "code",
   "execution_count": null,
   "id": "5732edc8-a52b-4c09-8cda-be16a15a05c3",
   "metadata": {},
   "outputs": [],
   "source": [
    "# saving model \n",
    "LSTM_model.save(path+'\\Model'+'\\LSTM_model.h5')\n",
    "np.save(path+'\\Model'+'\\my_history_LSTM_model.npy',history.history,allow_pickle=True)\n"
   ]
  },
  {
   "cell_type": "code",
   "execution_count": 41,
   "id": "f4d6400b-c2c2-4856-977d-970686b1d3b5",
   "metadata": {},
   "outputs": [
    {
     "name": "stdout",
     "output_type": "stream",
     "text": [
      "[0.53042661 0.67506733 0.5795726  ... 0.65828571 0.86439543 0.65578037]\n"
     ]
    },
    {
     "name": "stderr",
     "output_type": "stream",
     "text": [
      "<>:8: SyntaxWarning: invalid escape sequence '\\F'\n",
      "<>:15: SyntaxWarning: invalid escape sequence '\\F'\n",
      "<>:17: SyntaxWarning: invalid escape sequence '\\H'\n",
      "<>:22: SyntaxWarning: invalid escape sequence '\\H'\n",
      "<>:8: SyntaxWarning: invalid escape sequence '\\F'\n",
      "<>:15: SyntaxWarning: invalid escape sequence '\\F'\n",
      "<>:17: SyntaxWarning: invalid escape sequence '\\H'\n",
      "<>:22: SyntaxWarning: invalid escape sequence '\\H'\n",
      "C:\\Users\\Abby\\AppData\\Local\\Temp\\ipykernel_17392\\3526184465.py:8: SyntaxWarning: invalid escape sequence '\\F'\n",
      "  np.save(path+'\\False_Negative.npy',fn_per)\n",
      "C:\\Users\\Abby\\AppData\\Local\\Temp\\ipykernel_17392\\3526184465.py:15: SyntaxWarning: invalid escape sequence '\\F'\n",
      "  np.save(path+'\\False_Positive.npy',fp_per)\n",
      "C:\\Users\\Abby\\AppData\\Local\\Temp\\ipykernel_17392\\3526184465.py:17: SyntaxWarning: invalid escape sequence '\\H'\n",
      "  plt.savefig(path+r'\\Plots'+'\\Histogram_False_Positive.png')\n",
      "C:\\Users\\Abby\\AppData\\Local\\Temp\\ipykernel_17392\\3526184465.py:22: SyntaxWarning: invalid escape sequence '\\H'\n",
      "  plt.savefig(path+r'\\Plots'+'\\Histogram_Errors.png')\n"
     ]
    },
    {
     "data": {
      "image/png": "[encoded data removed]",
      "text/plain": [
       "<Figure size 640x480 with 1 Axes>"
      ]
     },
     "metadata": {},
     "output_type": "display_data"
    },
    {
     "data": {
      "image/png": "[encoded data removed]",
      "text/plain": [
       "<Figure size 640x480 with 1 Axes>"
      ]
     },
     "metadata": {},
     "output_type": "display_data"
    },
    {
     "data": {
      "image/png": "[encoded data removed]",
      "text/plain": [
       "<Figure size 640x480 with 1 Axes>"
      ]
     },
     "metadata": {},
     "output_type": "display_data"
    }
   ],
   "source": [
    "Y_percentage_test = np.load('T_s_Y_test_flattened.npy')\n",
    "    \n",
    "indices = np.where(mat_2 == 1)\n",
    "\n",
    "print(Y_percentage_test[indices])\n",
    "fn_per=Y_percentage_test[indices]\n",
    "\n",
    "np.save(path+'\\False_Negative.npy',fn_per)\n",
    "plt.hist(fn_per)\n",
    "plt.savefig(path+r'\\Plots'+r'\\Histogram_False_Negative.png')\n",
    "plt.show() \n",
    "  \n",
    "indices = np.where(mat_2 == -1)\n",
    "fp_per=Y_percentage_test[indices]\n",
    "np.save(path+'\\False_Positive.npy',fp_per)\n",
    "plt.hist(fp_per)\n",
    "plt.savefig(path+r'\\Plots'+'\\Histogram_False_Positive.png')\n",
    "plt.show() \n",
    "\n",
    "Errors_true_false =np.append(fn_per,fp_per)\n",
    "plt.hist(Errors_true_false)\n",
    "plt.savefig(path+r'\\Plots'+'\\Histogram_Errors.png')\n",
    "plt.show() \n"
   ]
  },
  {
   "cell_type": "code",
   "execution_count": null,
   "id": "fe0a0f3a-33f6-47bb-9894-0661f5021dfa",
   "metadata": {},
   "outputs": [],
   "source": []
  },
  {
   "cell_type": "code",
   "execution_count": null,
   "id": "d7e8d721-d062-4191-aa8d-75ef86f2f82c",
   "metadata": {},
   "outputs": [],
   "source": []
  },
  {
   "cell_type": "code",
   "execution_count": null,
   "id": "2adc1fbd-d901-4528-85f8-85f1f5d0d64b",
   "metadata": {},
   "outputs": [],
   "source": []
  },
  {
   "cell_type": "code",
   "execution_count": null,
   "id": "00b66a88-47ed-4bbc-8592-ef72c369c88d",
   "metadata": {},
   "outputs": [],
   "source": []
  },
  {
   "cell_type": "code",
   "execution_count": null,
   "id": "42689074-47b0-4283-8857-3e4be4342d90",
   "metadata": {},
   "outputs": [],
   "source": []
  },
  {
   "cell_type": "code",
   "execution_count": null,
   "id": "cb6e8101-f519-402f-a069-a2651426e97b",
   "metadata": {},
   "outputs": [],
   "source": []
  }
 ],
 "metadata": {
  "kernelspec": {
   "display_name": "Python 3 (ipykernel)",
   "language": "python",
   "name": "python3"
  },
  "language_info": {
   "codemirror_mode": {
    "name": "ipython",
    "version": 3
   },
   "file_extension": ".py",
   "mimetype": "text/x-python",
   "name": "python",
   "nbconvert_exporter": "python",
   "pygments_lexer": "ipython3",
   "version": "3.12.5"
  }
 },
 "nbformat": 4,
 "nbformat_minor": 5
}
