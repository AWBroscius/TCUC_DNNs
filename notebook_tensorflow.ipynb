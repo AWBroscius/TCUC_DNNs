{
 "cells": [
  {
   "cell_type": "code",
   "execution_count": 1,
   "id": "49f0ec4e-051d-4e5c-ab62-909956b67602",
   "metadata": {},
   "outputs": [],
   "source": [
    "# -*- coding: utf-8 -*-\n",
    "\"\"\"\n",
    "Created on Sat Oct 29 21:06:30 2022\n",
    "Modified on Mon Sept 9 by awb9691\n",
    "@author: ssb60\n",
    "@author: Abigail Broscius awb9691@rit.edu\n",
    "\"\"\"\n",
    "import numpy as np\n",
    "import matplotlib.pyplot as plt\n",
    "import keras\n",
    "from keras.callbacks import History\n",
    "from tensorflow import keras\n",
    "from keras.models import Sequential\n",
    "from keras.layers import Dense\n",
    "from keras.layers import LSTM\n",
    "from keras.layers import SimpleRNN\n",
    "from keras.layers import Dropout\n",
    "from keras.layers import BatchNormalization\n",
    "from sklearn.model_selection import train_test_split\n",
    "from sklearn.preprocessing import LabelEncoder\n",
    "from sklearn.preprocessing import OrdinalEncoder\n",
    "import pandas as pd\n",
    "import tensorflow as tf\n",
    "import torch\n",
    "from torch import nn\n",
    "from torch.autograd import Variable\n",
    "from pathlib import Path\n",
    "import os"
   ]
  },
  {
   "cell_type": "code",
   "execution_count": 2,
   "id": "42c3ed08-4003-47c0-9cd5-ab0b8feba270",
   "metadata": {},
   "outputs": [
    {
     "name": "stdout",
     "output_type": "stream",
     "text": [
      "CUDA version: 11.8\n",
      "GPU available? (pytorch): False\n"
     ]
    }
   ],
   "source": [
    "# Check for GPU architecture/compat\n",
    "print(\"CUDA version:\", torch.version.cuda)\n",
    "print(\"GPU available? (pytorch):\", torch.cuda.is_available())\n"
   ]
  },
  {
   "cell_type": "code",
   "execution_count": 3,
   "id": "52f818f7-8d3f-47e8-9876-3935330b26c7",
   "metadata": {},
   "outputs": [],
   "source": [
    "# Load in data\n",
    "Time_series_X_train = torch.tensor(np.load(r'T_s_X_train.npy'), dtype=torch.float32)\n",
    "Time_series_Y_train = torch.tensor(np.load(r'T_s_Y_train_flattened.npy'), dtype=torch.float32)\n",
    "Time_series_X_test = torch.tensor(np.load(r'T_s_X_test.npy'), dtype=torch.float32)\n",
    "Time_series_Y_test = torch.tensor(np.load(r'T_s_Y_test_flattened.npy'), dtype=torch.float32)"
   ]
  },
  {
   "cell_type": "code",
   "execution_count": 4,
   "id": "d1db5503-1fdb-463a-afdf-aa64aeee7909",
   "metadata": {},
   "outputs": [
    {
     "name": "stdout",
     "output_type": "stream",
     "text": [
      "x train shape:\n",
      "torch.Size([5644, 192, 120])\n",
      "y train shape:\n",
      "torch.Size([5644, 2880])\n"
     ]
    }
   ],
   "source": [
    "# Check data shape\n",
    "print(\"x train shape:\")\n",
    "print(Time_series_X_train.shape)\n",
    "print(\"y train shape:\")\n",
    "print(Time_series_Y_train.shape)\n"
   ]
  },
  {
   "cell_type": "code",
   "execution_count": 20,
   "id": "fad06b85-da2e-4a6a-97c3-7bb036932b12",
   "metadata": {},
   "outputs": [
    {
     "name": "stdout",
     "output_type": "stream",
     "text": [
      "Directory 'path_testing' created\n"
     ]
    }
   ],
   "source": [
    "# Create File System for saving output\n",
    "\n",
    "# Parent Directories\n",
    "parent_dir = r\".\\Outputs_from_models\"\n",
    "directory = \"path_testing\"  # change\n",
    "path = os.path.join(parent_dir, directory)\n",
    "Path(path).mkdir(parents=True, exist_ok=True)\n",
    "print(\"Directory '% s' created\" % directory)\n"
   ]
  },
  {
   "cell_type": "code",
   "execution_count": 21,
   "id": "2bf58463-2299-4aeb-a1bb-f3e4c5c6dd65",
   "metadata": {},
   "outputs": [],
   "source": [
    "# Leaf directories\n",
    "pathT = path + \"\\\\Testing_data\"\n",
    "Path(pathT).mkdir(parents=True, exist_ok=True)\n",
    "pathM = path + \"\\\\Model\"\n",
    "Path(pathM).mkdir(parents=True, exist_ok=True)\n",
    "pathP = path + \"\\\\Plots\"\n",
    "Path(pathP).mkdir(parents=True, exist_ok=True)"
   ]
  },
  {
   "cell_type": "code",
   "execution_count": 7,
   "id": "75720f0b-2314-4823-8721-ae38ee25f836",
   "metadata": {},
   "outputs": [
    {
     "name": "stderr",
     "output_type": "stream",
     "text": [
      "C:\\Users\\Abby\\anaconda3\\envs\\testenv\\Lib\\site-packages\\keras\\src\\layers\\rnn\\rnn.py:204: UserWarning: Do not pass an `input_shape`/`input_dim` argument to a layer. When using Sequential models, prefer using an `Input(shape)` object as the first layer in the model instead.\n",
      "  super().__init__(**kwargs)\n"
     ]
    }
   ],
   "source": [
    "LSTM_model = Sequential()\n",
    "LSTM_model.add(LSTM(1000, activation='sigmoid',return_sequences=True, input_shape=(192, 120)))\n",
    "LSTM_model.add(LSTM(500, activation='tanh',return_sequences=False, input_shape=(192, 120)))\n",
    "LSTM_model.add(Dense(3000, activation='relu'))\n",
    "#LSTM_model.add(BatchNormalization())\n",
    "#LSTM_model.add(Dropout(0.1))\n",
    "LSTM_model.add(Dense(1000, activation='relu'))\n",
    "#LSTM_model.add(BatchNormalization())\n",
    "#LSTM_model.add(Dropout(0.1))\n",
    "LSTM_model.add(Dense(3000, activation='relu'))\n",
    "#LSTM_model.add(BatchNormalization())\n",
    "#LSTM_model.add(Dropout(0.1))\n",
    "LSTM_model.add(Dense(2880, activation='sigmoid'))"
   ]
  },
  {
   "cell_type": "code",
   "execution_count": 8,
   "id": "5c9d40d7-c6a8-44b3-88c8-bf37c4343b95",
   "metadata": {},
   "outputs": [],
   "source": [
    "opt = keras.optimizers.Adam(learning_rate=0.001,\n",
    "                            beta_1=0.9,\n",
    "                            beta_2=0.99,\n",
    "                            epsilon=1e-07,\n",
    "                            amsgrad=False) #1e-6   0.0001 0.9"
   ]
  },
  {
   "cell_type": "code",
   "execution_count": 9,
   "id": "a5bc5d08-9f59-4e02-b199-ca776ef7b832",
   "metadata": {},
   "outputs": [
    {
     "data": {
      "text/html": [
       "<pre style=\"white-space:pre;overflow-x:auto;line-height:normal;font-family:Menlo,'DejaVu Sans Mono',consolas,'Courier New',monospace\"><span style=\"font-weight: bold\">Model: \"sequential\"</span>\n",
       "</pre>\n"
      ],
      "text/plain": [
       "\u001b[1mModel: \"sequential\"\u001b[0m\n"
      ]
     },
     "metadata": {},
     "output_type": "display_data"
    },
    {
     "data": {
      "text/html": [
       "<pre style=\"white-space:pre;overflow-x:auto;line-height:normal;font-family:Menlo,'DejaVu Sans Mono',consolas,'Courier New',monospace\">┏━━━━━━━━━━━━━━━━━━━━━━━━━━━━━━━━━━━━━━┳━━━━━━━━━━━━━━━━━━━━━━━━━━━━━┳━━━━━━━━━━━━━━━━━┓\n",
       "┃<span style=\"font-weight: bold\"> Layer (type)                         </span>┃<span style=\"font-weight: bold\"> Output Shape                </span>┃<span style=\"font-weight: bold\">         Param # </span>┃\n",
       "┡━━━━━━━━━━━━━━━━━━━━━━━━━━━━━━━━━━━━━━╇━━━━━━━━━━━━━━━━━━━━━━━━━━━━━╇━━━━━━━━━━━━━━━━━┩\n",
       "│ lstm (<span style=\"color: #0087ff; text-decoration-color: #0087ff\">LSTM</span>)                          │ (<span style=\"color: #00d7ff; text-decoration-color: #00d7ff\">None</span>, <span style=\"color: #00af00; text-decoration-color: #00af00\">192</span>, <span style=\"color: #00af00; text-decoration-color: #00af00\">1000</span>)           │       <span style=\"color: #00af00; text-decoration-color: #00af00\">4,484,000</span> │\n",
       "├──────────────────────────────────────┼─────────────────────────────┼─────────────────┤\n",
       "│ lstm_1 (<span style=\"color: #0087ff; text-decoration-color: #0087ff\">LSTM</span>)                        │ (<span style=\"color: #00d7ff; text-decoration-color: #00d7ff\">None</span>, <span style=\"color: #00af00; text-decoration-color: #00af00\">500</span>)                 │       <span style=\"color: #00af00; text-decoration-color: #00af00\">3,002,000</span> │\n",
       "├──────────────────────────────────────┼─────────────────────────────┼─────────────────┤\n",
       "│ dense (<span style=\"color: #0087ff; text-decoration-color: #0087ff\">Dense</span>)                        │ (<span style=\"color: #00d7ff; text-decoration-color: #00d7ff\">None</span>, <span style=\"color: #00af00; text-decoration-color: #00af00\">3000</span>)                │       <span style=\"color: #00af00; text-decoration-color: #00af00\">1,503,000</span> │\n",
       "├──────────────────────────────────────┼─────────────────────────────┼─────────────────┤\n",
       "│ dense_1 (<span style=\"color: #0087ff; text-decoration-color: #0087ff\">Dense</span>)                      │ (<span style=\"color: #00d7ff; text-decoration-color: #00d7ff\">None</span>, <span style=\"color: #00af00; text-decoration-color: #00af00\">1000</span>)                │       <span style=\"color: #00af00; text-decoration-color: #00af00\">3,001,000</span> │\n",
       "├──────────────────────────────────────┼─────────────────────────────┼─────────────────┤\n",
       "│ dense_2 (<span style=\"color: #0087ff; text-decoration-color: #0087ff\">Dense</span>)                      │ (<span style=\"color: #00d7ff; text-decoration-color: #00d7ff\">None</span>, <span style=\"color: #00af00; text-decoration-color: #00af00\">3000</span>)                │       <span style=\"color: #00af00; text-decoration-color: #00af00\">3,003,000</span> │\n",
       "├──────────────────────────────────────┼─────────────────────────────┼─────────────────┤\n",
       "│ dense_3 (<span style=\"color: #0087ff; text-decoration-color: #0087ff\">Dense</span>)                      │ (<span style=\"color: #00d7ff; text-decoration-color: #00d7ff\">None</span>, <span style=\"color: #00af00; text-decoration-color: #00af00\">2880</span>)                │       <span style=\"color: #00af00; text-decoration-color: #00af00\">8,642,880</span> │\n",
       "└──────────────────────────────────────┴─────────────────────────────┴─────────────────┘\n",
       "</pre>\n"
      ],
      "text/plain": [
       "┏━━━━━━━━━━━━━━━━━━━━━━━━━━━━━━━━━━━━━━┳━━━━━━━━━━━━━━━━━━━━━━━━━━━━━┳━━━━━━━━━━━━━━━━━┓\n",
       "┃\u001b[1m \u001b[0m\u001b[1mLayer (type)                        \u001b[0m\u001b[1m \u001b[0m┃\u001b[1m \u001b[0m\u001b[1mOutput Shape               \u001b[0m\u001b[1m \u001b[0m┃\u001b[1m \u001b[0m\u001b[1m        Param #\u001b[0m\u001b[1m \u001b[0m┃\n",
       "┡━━━━━━━━━━━━━━━━━━━━━━━━━━━━━━━━━━━━━━╇━━━━━━━━━━━━━━━━━━━━━━━━━━━━━╇━━━━━━━━━━━━━━━━━┩\n",
       "│ lstm (\u001b[38;5;33mLSTM\u001b[0m)                          │ (\u001b[38;5;45mNone\u001b[0m, \u001b[38;5;34m192\u001b[0m, \u001b[38;5;34m1000\u001b[0m)           │       \u001b[38;5;34m4,484,000\u001b[0m │\n",
       "├──────────────────────────────────────┼─────────────────────────────┼─────────────────┤\n",
       "│ lstm_1 (\u001b[38;5;33mLSTM\u001b[0m)                        │ (\u001b[38;5;45mNone\u001b[0m, \u001b[38;5;34m500\u001b[0m)                 │       \u001b[38;5;34m3,002,000\u001b[0m │\n",
       "├──────────────────────────────────────┼─────────────────────────────┼─────────────────┤\n",
       "│ dense (\u001b[38;5;33mDense\u001b[0m)                        │ (\u001b[38;5;45mNone\u001b[0m, \u001b[38;5;34m3000\u001b[0m)                │       \u001b[38;5;34m1,503,000\u001b[0m │\n",
       "├──────────────────────────────────────┼─────────────────────────────┼─────────────────┤\n",
       "│ dense_1 (\u001b[38;5;33mDense\u001b[0m)                      │ (\u001b[38;5;45mNone\u001b[0m, \u001b[38;5;34m1000\u001b[0m)                │       \u001b[38;5;34m3,001,000\u001b[0m │\n",
       "├──────────────────────────────────────┼─────────────────────────────┼─────────────────┤\n",
       "│ dense_2 (\u001b[38;5;33mDense\u001b[0m)                      │ (\u001b[38;5;45mNone\u001b[0m, \u001b[38;5;34m3000\u001b[0m)                │       \u001b[38;5;34m3,003,000\u001b[0m │\n",
       "├──────────────────────────────────────┼─────────────────────────────┼─────────────────┤\n",
       "│ dense_3 (\u001b[38;5;33mDense\u001b[0m)                      │ (\u001b[38;5;45mNone\u001b[0m, \u001b[38;5;34m2880\u001b[0m)                │       \u001b[38;5;34m8,642,880\u001b[0m │\n",
       "└──────────────────────────────────────┴─────────────────────────────┴─────────────────┘\n"
      ]
     },
     "metadata": {},
     "output_type": "display_data"
    },
    {
     "data": {
      "text/html": [
       "<pre style=\"white-space:pre;overflow-x:auto;line-height:normal;font-family:Menlo,'DejaVu Sans Mono',consolas,'Courier New',monospace\"><span style=\"font-weight: bold\"> Total params: </span><span style=\"color: #00af00; text-decoration-color: #00af00\">23,635,880</span> (90.16 MB)\n",
       "</pre>\n"
      ],
      "text/plain": [
       "\u001b[1m Total params: \u001b[0m\u001b[38;5;34m23,635,880\u001b[0m (90.16 MB)\n"
      ]
     },
     "metadata": {},
     "output_type": "display_data"
    },
    {
     "data": {
      "text/html": [
       "<pre style=\"white-space:pre;overflow-x:auto;line-height:normal;font-family:Menlo,'DejaVu Sans Mono',consolas,'Courier New',monospace\"><span style=\"font-weight: bold\"> Trainable params: </span><span style=\"color: #00af00; text-decoration-color: #00af00\">23,635,880</span> (90.16 MB)\n",
       "</pre>\n"
      ],
      "text/plain": [
       "\u001b[1m Trainable params: \u001b[0m\u001b[38;5;34m23,635,880\u001b[0m (90.16 MB)\n"
      ]
     },
     "metadata": {},
     "output_type": "display_data"
    },
    {
     "data": {
      "text/html": [
       "<pre style=\"white-space:pre;overflow-x:auto;line-height:normal;font-family:Menlo,'DejaVu Sans Mono',consolas,'Courier New',monospace\"><span style=\"font-weight: bold\"> Non-trainable params: </span><span style=\"color: #00af00; text-decoration-color: #00af00\">0</span> (0.00 B)\n",
       "</pre>\n"
      ],
      "text/plain": [
       "\u001b[1m Non-trainable params: \u001b[0m\u001b[38;5;34m0\u001b[0m (0.00 B)\n"
      ]
     },
     "metadata": {},
     "output_type": "display_data"
    }
   ],
   "source": [
    "LSTM_model.compile(loss='mse', optimizer=opt, metrics=['accuracy', 'mae'],run_eagerly=True)\n",
    "LSTM_model.summary()\n",
    "\n",
    "#metrics=[tf.keras.metrics.BinaryAccuracy()]\n",
    "callback = tf.keras.callbacks.EarlyStopping(monitor='val_loss', patience=10,restore_best_weights=True)"
   ]
  },
  {
   "cell_type": "code",
   "execution_count": 10,
   "id": "f8ba39ec-cfb6-4850-b365-8db219d54733",
   "metadata": {},
   "outputs": [
    {
     "name": "stdout",
     "output_type": "stream",
     "text": [
      "\u001b[1m29/29\u001b[0m \u001b[32m━━━━━━━━━━━━━━━━━━━━\u001b[0m\u001b[37m\u001b[0m \u001b[1m360s\u001b[0m 12s/step - accuracy: 0.0000e+00 - loss: 0.0379 - mae: 0.1505 - val_accuracy: 0.0000e+00 - val_loss: 0.0192 - val_mae: 0.1042\n"
     ]
    }
   ],
   "source": [
    "history=LSTM_model.fit(Time_series_X_train, Time_series_Y_train, epochs=1, batch_size=200,validation_data=(Time_series_X_test,Time_series_Y_test),callbacks=[callback])#\n"
   ]
  },
  {
   "cell_type": "code",
   "execution_count": 22,
   "id": "6634b8ec-81f3-4a2d-b954-72d9481c5399",
   "metadata": {},
   "outputs": [
    {
     "name": "stdout",
     "output_type": "stream",
     "text": [
      ".\\Outputs_from_models\\path_testing\\Plots\\loss.png\n"
     ]
    },
    {
     "data": {
      "image/png": "[encoded data removed]",
      "text/plain": [
       "<Figure size 640x480 with 1 Axes>"
      ]
     },
     "metadata": {},
     "output_type": "display_data"
    }
   ],
   "source": [
    "plt.plot(history.history['loss'])\n",
    "plt.plot(history.history['val_loss'])\n",
    "plt.title('model loss')\n",
    "plt.ylabel('loss')\n",
    "plt.xlabel('epoch')\n",
    "plt.legend(['train', 'val'], loc='upper left')\n",
    "\n",
    "plt.savefig(path+r'\\Plots'+r'\\loss.png')\n",
    "print(path+r'\\Plots'+r'\\loss.png')\n",
    "plt.show()"
   ]
  },
  {
   "cell_type": "code",
   "execution_count": 12,
   "id": "dc578218-bec3-41ea-9833-8d9b769ed9ac",
   "metadata": {},
   "outputs": [
    {
     "name": "stdout",
     "output_type": "stream",
     "text": [
      "\u001b[1m43/43\u001b[0m \u001b[32m━━━━━━━━━━━━━━━━━━━━\u001b[0m\u001b[37m\u001b[0m \u001b[1m80s\u001b[0m 2s/step\n"
     ]
    }
   ],
   "source": [
    "predictions = LSTM_model.predict(Time_series_X_test)\n",
    "#y_pred_r=tf.round(predictions )\n",
    "#y_pred_r=tf.math.minimum(y_pred_r,1)\n",
    "predictions[predictions<=0.3333]=0\n",
    "predictions[predictions > 0.3333]=1\n",
    "pred=predictions\n",
    "#pred=y_pred_r.numpy()\n",
    "idx_y=np.load('y_test_idx.npy')\n",
    "df=pd.DataFrame(pred)\n",
    "df.insert(loc=0,column='day',value=idx_y[:,0])\n",
    "#df.insert(loc=1,column='hour',value=idx_y[:,1])\n",
    "#df['hour']=idx_y[:,1]"
   ]
  },
  {
   "cell_type": "code",
   "execution_count": 13,
   "id": "a920980b-02cf-4c1b-868d-724b409d3d94",
   "metadata": {},
   "outputs": [],
   "source": [
    "mask1 = df.duplicated(subset=['day'],keep = \"first\") # this line is to get the first occ.\n",
    "df2=df[~mask1]\n",
    "\n",
    "pred_0_hr =df2.to_numpy()\n"
   ]
  },
  {
   "cell_type": "code",
   "execution_count": 14,
   "id": "bec153ae-8f63-446c-b917-cd85b0e6105c",
   "metadata": {},
   "outputs": [
    {
     "ename": "ModuleNotFoundError",
     "evalue": "No module named 'openpyxl'",
     "output_type": "error",
     "traceback": [
      "\u001b[1;31m---------------------------------------------------------------------------\u001b[0m",
      "\u001b[1;31mModuleNotFoundError\u001b[0m                       Traceback (most recent call last)",
      "Cell \u001b[1;32mIn[14], line 52\u001b[0m\n\u001b[0;32m     50\u001b[0m df_3\u001b[38;5;241m=\u001b[39mpd\u001b[38;5;241m.\u001b[39mDataFrame(new_temp_1)\n\u001b[0;32m     51\u001b[0m file_name\u001b[38;5;241m=\u001b[39mlocation\u001b[38;5;241m+\u001b[39m\u001b[38;5;124mr\u001b[39m\u001b[38;5;124m'\u001b[39m\u001b[38;5;124m\\\u001b[39m\u001b[38;5;124mTesting_data\u001b[39m\u001b[38;5;124m\\\u001b[39m\u001b[38;5;124mexcel\u001b[39m\u001b[38;5;124m'\u001b[39m\u001b[38;5;241m+\u001b[39m\u001b[38;5;28mstr\u001b[39m(counter_op)\u001b[38;5;241m+\u001b[39m\u001b[38;5;124m'\u001b[39m\u001b[38;5;124m.xlsx\u001b[39m\u001b[38;5;124m'\u001b[39m\n\u001b[1;32m---> 52\u001b[0m \u001b[43mdf_3\u001b[49m\u001b[38;5;241;43m.\u001b[39;49m\u001b[43mto_excel\u001b[49m\u001b[43m(\u001b[49m\u001b[43mfile_name\u001b[49m\u001b[43m)\u001b[49m\n\u001b[0;32m     53\u001b[0m temp\u001b[38;5;241m=\u001b[39m[]\n\u001b[0;32m     54\u001b[0m counter_op\u001b[38;5;241m=\u001b[39mcounter_op\u001b[38;5;241m+\u001b[39m\u001b[38;5;241m1\u001b[39m\n",
      "File \u001b[1;32m~\\anaconda3\\envs\\testenv\\Lib\\site-packages\\pandas\\util\\_decorators.py:333\u001b[0m, in \u001b[0;36mdeprecate_nonkeyword_arguments.<locals>.decorate.<locals>.wrapper\u001b[1;34m(*args, **kwargs)\u001b[0m\n\u001b[0;32m    327\u001b[0m \u001b[38;5;28;01mif\u001b[39;00m \u001b[38;5;28mlen\u001b[39m(args) \u001b[38;5;241m>\u001b[39m num_allow_args:\n\u001b[0;32m    328\u001b[0m     warnings\u001b[38;5;241m.\u001b[39mwarn(\n\u001b[0;32m    329\u001b[0m         msg\u001b[38;5;241m.\u001b[39mformat(arguments\u001b[38;5;241m=\u001b[39m_format_argument_list(allow_args)),\n\u001b[0;32m    330\u001b[0m         \u001b[38;5;167;01mFutureWarning\u001b[39;00m,\n\u001b[0;32m    331\u001b[0m         stacklevel\u001b[38;5;241m=\u001b[39mfind_stack_level(),\n\u001b[0;32m    332\u001b[0m     )\n\u001b[1;32m--> 333\u001b[0m \u001b[38;5;28;01mreturn\u001b[39;00m \u001b[43mfunc\u001b[49m\u001b[43m(\u001b[49m\u001b[38;5;241;43m*\u001b[39;49m\u001b[43margs\u001b[49m\u001b[43m,\u001b[49m\u001b[43m \u001b[49m\u001b[38;5;241;43m*\u001b[39;49m\u001b[38;5;241;43m*\u001b[39;49m\u001b[43mkwargs\u001b[49m\u001b[43m)\u001b[49m\n",
      "File \u001b[1;32m~\\anaconda3\\envs\\testenv\\Lib\\site-packages\\pandas\\core\\generic.py:2417\u001b[0m, in \u001b[0;36mNDFrame.to_excel\u001b[1;34m(self, excel_writer, sheet_name, na_rep, float_format, columns, header, index, index_label, startrow, startcol, engine, merge_cells, inf_rep, freeze_panes, storage_options, engine_kwargs)\u001b[0m\n\u001b[0;32m   2404\u001b[0m \u001b[38;5;28;01mfrom\u001b[39;00m \u001b[38;5;21;01mpandas\u001b[39;00m\u001b[38;5;21;01m.\u001b[39;00m\u001b[38;5;21;01mio\u001b[39;00m\u001b[38;5;21;01m.\u001b[39;00m\u001b[38;5;21;01mformats\u001b[39;00m\u001b[38;5;21;01m.\u001b[39;00m\u001b[38;5;21;01mexcel\u001b[39;00m \u001b[38;5;28;01mimport\u001b[39;00m ExcelFormatter\n\u001b[0;32m   2406\u001b[0m formatter \u001b[38;5;241m=\u001b[39m ExcelFormatter(\n\u001b[0;32m   2407\u001b[0m     df,\n\u001b[0;32m   2408\u001b[0m     na_rep\u001b[38;5;241m=\u001b[39mna_rep,\n\u001b[1;32m   (...)\u001b[0m\n\u001b[0;32m   2415\u001b[0m     inf_rep\u001b[38;5;241m=\u001b[39minf_rep,\n\u001b[0;32m   2416\u001b[0m )\n\u001b[1;32m-> 2417\u001b[0m \u001b[43mformatter\u001b[49m\u001b[38;5;241;43m.\u001b[39;49m\u001b[43mwrite\u001b[49m\u001b[43m(\u001b[49m\n\u001b[0;32m   2418\u001b[0m \u001b[43m    \u001b[49m\u001b[43mexcel_writer\u001b[49m\u001b[43m,\u001b[49m\n\u001b[0;32m   2419\u001b[0m \u001b[43m    \u001b[49m\u001b[43msheet_name\u001b[49m\u001b[38;5;241;43m=\u001b[39;49m\u001b[43msheet_name\u001b[49m\u001b[43m,\u001b[49m\n\u001b[0;32m   2420\u001b[0m \u001b[43m    \u001b[49m\u001b[43mstartrow\u001b[49m\u001b[38;5;241;43m=\u001b[39;49m\u001b[43mstartrow\u001b[49m\u001b[43m,\u001b[49m\n\u001b[0;32m   2421\u001b[0m \u001b[43m    \u001b[49m\u001b[43mstartcol\u001b[49m\u001b[38;5;241;43m=\u001b[39;49m\u001b[43mstartcol\u001b[49m\u001b[43m,\u001b[49m\n\u001b[0;32m   2422\u001b[0m \u001b[43m    \u001b[49m\u001b[43mfreeze_panes\u001b[49m\u001b[38;5;241;43m=\u001b[39;49m\u001b[43mfreeze_panes\u001b[49m\u001b[43m,\u001b[49m\n\u001b[0;32m   2423\u001b[0m \u001b[43m    \u001b[49m\u001b[43mengine\u001b[49m\u001b[38;5;241;43m=\u001b[39;49m\u001b[43mengine\u001b[49m\u001b[43m,\u001b[49m\n\u001b[0;32m   2424\u001b[0m \u001b[43m    \u001b[49m\u001b[43mstorage_options\u001b[49m\u001b[38;5;241;43m=\u001b[39;49m\u001b[43mstorage_options\u001b[49m\u001b[43m,\u001b[49m\n\u001b[0;32m   2425\u001b[0m \u001b[43m    \u001b[49m\u001b[43mengine_kwargs\u001b[49m\u001b[38;5;241;43m=\u001b[39;49m\u001b[43mengine_kwargs\u001b[49m\u001b[43m,\u001b[49m\n\u001b[0;32m   2426\u001b[0m \u001b[43m\u001b[49m\u001b[43m)\u001b[49m\n",
      "File \u001b[1;32m~\\anaconda3\\envs\\testenv\\Lib\\site-packages\\pandas\\io\\formats\\excel.py:943\u001b[0m, in \u001b[0;36mExcelFormatter.write\u001b[1;34m(self, writer, sheet_name, startrow, startcol, freeze_panes, engine, storage_options, engine_kwargs)\u001b[0m\n\u001b[0;32m    941\u001b[0m     need_save \u001b[38;5;241m=\u001b[39m \u001b[38;5;28;01mFalse\u001b[39;00m\n\u001b[0;32m    942\u001b[0m \u001b[38;5;28;01melse\u001b[39;00m:\n\u001b[1;32m--> 943\u001b[0m     writer \u001b[38;5;241m=\u001b[39m \u001b[43mExcelWriter\u001b[49m\u001b[43m(\u001b[49m\n\u001b[0;32m    944\u001b[0m \u001b[43m        \u001b[49m\u001b[43mwriter\u001b[49m\u001b[43m,\u001b[49m\n\u001b[0;32m    945\u001b[0m \u001b[43m        \u001b[49m\u001b[43mengine\u001b[49m\u001b[38;5;241;43m=\u001b[39;49m\u001b[43mengine\u001b[49m\u001b[43m,\u001b[49m\n\u001b[0;32m    946\u001b[0m \u001b[43m        \u001b[49m\u001b[43mstorage_options\u001b[49m\u001b[38;5;241;43m=\u001b[39;49m\u001b[43mstorage_options\u001b[49m\u001b[43m,\u001b[49m\n\u001b[0;32m    947\u001b[0m \u001b[43m        \u001b[49m\u001b[43mengine_kwargs\u001b[49m\u001b[38;5;241;43m=\u001b[39;49m\u001b[43mengine_kwargs\u001b[49m\u001b[43m,\u001b[49m\n\u001b[0;32m    948\u001b[0m \u001b[43m    \u001b[49m\u001b[43m)\u001b[49m\n\u001b[0;32m    949\u001b[0m     need_save \u001b[38;5;241m=\u001b[39m \u001b[38;5;28;01mTrue\u001b[39;00m\n\u001b[0;32m    951\u001b[0m \u001b[38;5;28;01mtry\u001b[39;00m:\n",
      "File \u001b[1;32m~\\anaconda3\\envs\\testenv\\Lib\\site-packages\\pandas\\io\\excel\\_openpyxl.py:57\u001b[0m, in \u001b[0;36mOpenpyxlWriter.__init__\u001b[1;34m(self, path, engine, date_format, datetime_format, mode, storage_options, if_sheet_exists, engine_kwargs, **kwargs)\u001b[0m\n\u001b[0;32m     44\u001b[0m \u001b[38;5;28;01mdef\u001b[39;00m \u001b[38;5;21m__init__\u001b[39m(\n\u001b[0;32m     45\u001b[0m     \u001b[38;5;28mself\u001b[39m,\n\u001b[0;32m     46\u001b[0m     path: FilePath \u001b[38;5;241m|\u001b[39m WriteExcelBuffer \u001b[38;5;241m|\u001b[39m ExcelWriter,\n\u001b[1;32m   (...)\u001b[0m\n\u001b[0;32m     55\u001b[0m ) \u001b[38;5;241m-\u001b[39m\u001b[38;5;241m>\u001b[39m \u001b[38;5;28;01mNone\u001b[39;00m:\n\u001b[0;32m     56\u001b[0m     \u001b[38;5;66;03m# Use the openpyxl module as the Excel writer.\u001b[39;00m\n\u001b[1;32m---> 57\u001b[0m     \u001b[38;5;28;01mfrom\u001b[39;00m \u001b[38;5;21;01mopenpyxl\u001b[39;00m\u001b[38;5;21;01m.\u001b[39;00m\u001b[38;5;21;01mworkbook\u001b[39;00m \u001b[38;5;28;01mimport\u001b[39;00m Workbook\n\u001b[0;32m     59\u001b[0m     engine_kwargs \u001b[38;5;241m=\u001b[39m combine_kwargs(engine_kwargs, kwargs)\n\u001b[0;32m     61\u001b[0m     \u001b[38;5;28msuper\u001b[39m()\u001b[38;5;241m.\u001b[39m\u001b[38;5;21m__init__\u001b[39m(\n\u001b[0;32m     62\u001b[0m         path,\n\u001b[0;32m     63\u001b[0m         mode\u001b[38;5;241m=\u001b[39mmode,\n\u001b[1;32m   (...)\u001b[0m\n\u001b[0;32m     66\u001b[0m         engine_kwargs\u001b[38;5;241m=\u001b[39mengine_kwargs,\n\u001b[0;32m     67\u001b[0m     )\n",
      "\u001b[1;31mModuleNotFoundError\u001b[0m: No module named 'openpyxl'"
     ]
    }
   ],
   "source": [
    "pred_0_hr_list =[]\n",
    "temp=[]\n",
    "counter_op=0\n",
    "for i in range (1,len(pred_0_hr)):\n",
    "    if ( pred_0_hr[i,0]-pred_0_hr[i-1,0])<2:\n",
    "        temp.append(pred_0_hr[i,:])\n",
    "        if i== len(pred_0_hr)-1:\n",
    "            temp_np=np.array(temp)\n",
    "            index_for_temp=2\n",
    "            new_temp_1=[]\n",
    "            for count_reshape_r in range (0,len(temp_np)):\n",
    "                new_temp=[]\n",
    "                new_temp.append(temp_np[count_reshape_r,0])\n",
    "                    \n",
    "                for count_reshape_c in range (1,temp_np.shape[1]):\n",
    "                    if ((count_reshape_c) % 120)==0 : \n",
    "                        new_temp.append(temp_np[count_reshape_r,count_reshape_c])\n",
    "                        new_temp_1.append(new_temp)\n",
    "                        new_temp=[]\n",
    "                        new_temp.append(temp_np[count_reshape_r,0])\n",
    "                        \n",
    "                    else: \n",
    "                        new_temp.append(temp_np[count_reshape_r,count_reshape_c])\n",
    "\n",
    "                           \n",
    "            new_temp_1=np.array(new_temp_1)\n",
    "            df_3=pd.DataFrame(new_temp_1)\n",
    "            file_name=path +r'\\Testing_data\\excel'+str(counter_op)+'.xlsx'\n",
    "            df_3.to_excel(file_name)\n",
    "    else:\n",
    "        temp_np=np.array(temp)\n",
    "        index_for_temp=2\n",
    "        new_temp_1=[]\n",
    "        for count_reshape_r in range (0,len(temp_np)):\n",
    "            new_temp=[]\n",
    "            new_temp.append(temp_np[count_reshape_r,0])\n",
    "                \n",
    "            for count_reshape_c in range (1,temp_np.shape[1]):\n",
    "                if ((count_reshape_c ) % 120)==0 : \n",
    "                    new_temp.append(temp_np[count_reshape_r,count_reshape_c])\n",
    "                    new_temp_1.append(new_temp)\n",
    "                    new_temp=[]\n",
    "                    new_temp.append(temp_np[count_reshape_r,0])\n",
    "                    \n",
    "                else: \n",
    "                    new_temp.append(temp_np[count_reshape_r,count_reshape_c])\n",
    "                    \n",
    "       \n",
    "        new_temp_1=np.array(new_temp_1)\n",
    "        df_3=pd.DataFrame(new_temp_1)\n",
    "        file_name=path+r'\\Testing_data\\excel'+str(counter_op)+'.xlsx'\n",
    "        df_3.to_excel(file_name)\n",
    "        temp=[]\n",
    "        counter_op=counter_op+1\n",
    "        \n"
   ]
  },
  {
   "cell_type": "code",
   "execution_count": 16,
   "id": "224d23f3-bb2b-425b-89cc-d02a7fc67298",
   "metadata": {},
   "outputs": [],
   "source": [
    "#df.to_excel('out_33_10_xy_y_56.xlsx')\n",
    "np.save(path +r'\\output.npy',pred)\n"
   ]
  },
  {
   "cell_type": "code",
   "execution_count": 17,
   "id": "728567ad-1bf1-4ded-90c0-6686a95d67e5",
   "metadata": {},
   "outputs": [],
   "source": [
    "pred_t=pred\n",
    "np.save(path +r'\\output.npy',pred_t)"
   ]
  },
  {
   "cell_type": "code",
   "execution_count": null,
   "id": "69081796-1160-4416-906a-9a4f69616301",
   "metadata": {},
   "outputs": [],
   "source": [
    "Time_series_Y_test[Time_series_Y_test<=0.33]=0\n",
    "Time_series_Y_test[Time_series_Y_test > 0.33]=1\n",
    "\n",
    "tp=np.count_nonzero(Time_series_Y_test == 1)\n",
    "tn =np.sum(Time_series_Y_test == 0)\n",
    "#pp=np.count_nonzero(pred == 1)\n",
    "#pn =np.sum(pred == 0)\n",
    "\n",
    "print('trueval_pos')\n",
    "print(tp)\n",
    "print('trueval_neg')\n",
    "print(tn)\n",
    "print('positive_pred')\n",
    "'''print(pp)\n",
    "print('negative_pred')\n",
    "print(pn)'''\n"
   ]
  },
  {
   "cell_type": "code",
   "execution_count": null,
   "id": "d698b395-545f-476e-a87c-94fd8cec17d2",
   "metadata": {},
   "outputs": [],
   "source": [
    "total_positive=np.count_nonzero(Time_series_Y_test == 1)\n",
    "total_negative =np.sum(Time_series_Y_test == 0)\n",
    "pred_pos=np.count_nonzero(pred_t == 1)\n",
    "pred_neg =np.sum(pred_t == 0)\n",
    "\n",
    "mat_1 = Time_series_Y_test + pred_t\n",
    "tp =np.sum(mat_1 == 2)\n",
    "tp_arr=np.sum(mat_1 == 2,0)\n",
    "tn=np.sum(mat_1 == 0)\n",
    "tn_arr=np.sum(mat_1 == 0,0)\n",
    "\n",
    "mat_2 = Time_series_Y_test - pred_t\n",
    "fn = np.sum(mat_2 == 1)\n",
    "fn_arr=np.sum(mat_2 == 1,0)\n",
    "fp =np.sum(mat_2 ==-1)\n",
    "fp_arr=np.sum(mat_2 == -1,0)"
   ]
  },
  {
   "cell_type": "code",
   "execution_count": null,
   "id": "8aa85c0c-f3bf-44be-a3fb-8d379fa1cda4",
   "metadata": {},
   "outputs": [],
   "source": [
    "df_cm=pd.DataFrame(tp_arr.T)\n",
    "#df. rename(columns = {'old_col1':'new_col1', 'old_col2':'new_col2'}, inplace = True)\n",
    "df_cm.rename(columns={0:'True_Positive'},inplace='True')\n",
    "df_cm.insert(loc=1,column='True_Negative',value=tn_arr)\n",
    "df_cm.insert(loc=2,column='False_Positive',value=fp_arr)\n",
    "df_cm.insert(loc=3,column='False_Negative',value=fn_arr)\n",
    "lines =np.linspace(1, 120, num=120)\n",
    "lines_arr = np.tile(lines,24)\n",
    "df_cm.insert(loc=0,column='Line_No',value=lines_arr)\n",
    "hour=np.linspace(1, 24, num=24)\n",
    "hour_arr = np.repeat(hour,120)\n",
    "df_cm.insert(loc=1,column='Hour',value=hour_arr)\n",
    "file_name=path+'\\confusion_matrix.xlsx'\n",
    "df_cm.to_excel(file_name)\n",
    "df_false_neg = df_cm.groupby([\"Line_No\"]).False_Negative.sum().reset_index()"
   ]
  },
  {
   "cell_type": "code",
   "execution_count": null,
   "id": "a6734986-d7f6-4fa7-bfd9-49ee0dea05cf",
   "metadata": {},
   "outputs": [],
   "source": [
    "print('tp')\n",
    "print(tp)\n",
    "print('tn')\n",
    "print(tn)\n",
    "print('fp')\n",
    "print(fp)\n",
    "print('fn')\n",
    "print(fn)\n",
    "\n",
    "f1_score = 2*tp/(2*tp + fp + fn)\n",
    "print('F1-score = ',f1_score)\n",
    "\n",
    "print('Most false neg line')\n",
    "print(df_false_neg.loc[df_false_neg.False_Negative.idxmax(),'False_Negative'])\n",
    "print(\"No of times\")\n",
    "print(df_false_neg.loc[df_false_neg.False_Negative.idxmax(),'Line_No'])"
   ]
  },
  {
   "cell_type": "code",
   "execution_count": null,
   "id": "c71d6c30-1fdc-4aa9-bcc1-cf62478c4a28",
   "metadata": {},
   "outputs": [],
   "source": [
    "LSTM_model.evaluate(Time_series_X_test,Time_series_Y_test)\n",
    "LSTM_model.evaluate(Time_series_X_train,Time_series_Y_train)\n"
   ]
  },
  {
   "cell_type": "code",
   "execution_count": null,
   "id": "5732edc8-a52b-4c09-8cda-be16a15a05c3",
   "metadata": {},
   "outputs": [],
   "source": [
    "# saving model \n",
    "LSTM_model.save(path+'\\Model'+'\\LSTM_model.h5')\n",
    "np.save(path+'\\Model'+'\\my_history_LSTM_model.npy',history.history,allow_pickle=True)\n"
   ]
  },
  {
   "cell_type": "code",
   "execution_count": null,
   "id": "f4d6400b-c2c2-4856-977d-970686b1d3b5",
   "metadata": {},
   "outputs": [],
   "source": [
    "Y_percentage_test = np.load('T_s_Y_test_flattened.npy')\n",
    "    \n",
    "indices = np.where(mat_2 == 1)\n",
    "\n",
    "print(Y_percentage_test[indices])\n",
    "fn_per=Y_percentage_test[indices]\n",
    "\n",
    "np.save(path+'\\False_Negative.npy',fn_per)\n",
    "plt.hist(fn_per)\n",
    "plt.savefig(path+r'\\Plots'+r'\\Histogram_False_Negative.png')\n",
    "plt.show() \n",
    "  \n",
    "indices = np.where(mat_2 == -1)\n",
    "fp_per=Y_percentage_test[indices]\n",
    "np.save(path+'\\False_Positive.npy',fp_per)\n",
    "plt.hist(fp_per)\n",
    "plt.savefig(path+r'\\Plots'+'\\Histogram_False_Positive.png')\n",
    "plt.show() \n",
    "\n",
    "Errors_true_false =np.append(fn_per,fp_per)\n",
    "plt.hist(Errors_true_false)\n",
    "plt.savefig(path+r'\\Plots'+'\\Histogram_Errors.png')\n",
    "plt.show() \n"
   ]
  },
  {
   "cell_type": "code",
   "execution_count": null,
   "id": "fe0a0f3a-33f6-47bb-9894-0661f5021dfa",
   "metadata": {},
   "outputs": [],
   "source": []
  },
  {
   "cell_type": "code",
   "execution_count": null,
   "id": "d7e8d721-d062-4191-aa8d-75ef86f2f82c",
   "metadata": {},
   "outputs": [],
   "source": []
  },
  {
   "cell_type": "code",
   "execution_count": null,
   "id": "2adc1fbd-d901-4528-85f8-85f1f5d0d64b",
   "metadata": {},
   "outputs": [],
   "source": []
  },
  {
   "cell_type": "code",
   "execution_count": null,
   "id": "00b66a88-47ed-4bbc-8592-ef72c369c88d",
   "metadata": {},
   "outputs": [],
   "source": []
  },
  {
   "cell_type": "code",
   "execution_count": null,
   "id": "42689074-47b0-4283-8857-3e4be4342d90",
   "metadata": {},
   "outputs": [],
   "source": []
  },
  {
   "cell_type": "code",
   "execution_count": null,
   "id": "cb6e8101-f519-402f-a069-a2651426e97b",
   "metadata": {},
   "outputs": [],
   "source": []
  }
 ],
 "metadata": {
  "kernelspec": {
   "display_name": "Python 3 (ipykernel)",
   "language": "python",
   "name": "python3"
  },
  "language_info": {
   "codemirror_mode": {
    "name": "ipython",
    "version": 3
   },
   "file_extension": ".py",
   "mimetype": "text/x-python",
   "name": "python",
   "nbconvert_exporter": "python",
   "pygments_lexer": "ipython3",
   "version": "3.12.5"
  }
 },
 "nbformat": 4,
 "nbformat_minor": 5
}
